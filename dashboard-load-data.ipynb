{
 "cells": [
  {
   "cell_type": "markdown",
   "metadata": {},
   "source": [
    "Hello World"
   ]
  },
  {
   "cell_type": "code",
   "execution_count": null,
   "metadata": {},
   "outputs": [],
   "source": []
  },
  {
   "cell_type": "markdown",
   "metadata": {},
   "source": [
    "Get the pandora datacode"
   ]
  },
  {
   "cell_type": "code",
   "execution_count": 10,
   "metadata": {},
   "outputs": [
    {
     "name": "stdout",
     "output_type": "stream",
     "text": [
      "rm: cannot remove 'pandora': No such file or directory\n",
      "--2021-02-07 14:45:32--  https://github.com/rbilleci/pandora/archive/master.zip\n",
      "Resolving github.com (github.com)... 140.82.121.3\n",
      "Connecting to github.com (github.com)|140.82.121.3|:443... connected.\n",
      "HTTP request sent, awaiting response... 302 Found\n",
      "Location: https://codeload.github.com/rbilleci/pandora/zip/master [following]\n",
      "--2021-02-07 14:45:32--  https://codeload.github.com/rbilleci/pandora/zip/master\n",
      "Resolving codeload.github.com (codeload.github.com)... 140.82.121.9\n",
      "Connecting to codeload.github.com (codeload.github.com)|140.82.121.9|:443... connected.\n",
      "HTTP request sent, awaiting response... 200 OK\n",
      "Length: 2597596 (2.5M) [application/zip]\n",
      "Saving to: ‘master.zip’\n",
      "\n",
      "master.zip          100%[===================>]   2.48M  --.-KB/s    in 0.09s   \n",
      "\n",
      "2021-02-07 14:45:32 (26.2 MB/s) - ‘master.zip’ saved [2597596/2597596]\n",
      "\n",
      "Archive:  master.zip\n",
      "4c53dd707ecf02373bc2be21577107cca6dc0294\n",
      "   creating: pandora-master/\n",
      " extracting: pandora-master/.gitignore  \n",
      "  inflating: pandora-master/README.md  \n",
      "   creating: pandora-master/data/\n",
      "  inflating: pandora-master/data/age_distribution.csv  \n",
      "  inflating: pandora-master/data/age_distribution.py  \n",
      "  inflating: pandora-master/data/continent.csv  \n",
      "  inflating: pandora-master/data/continent.py  \n",
      "  inflating: pandora-master/data/country_code.csv  \n",
      "  inflating: pandora-master/data/country_code.py  \n",
      "  inflating: pandora-master/data/geo.csv  \n",
      "  inflating: pandora-master/data/geo.py  \n",
      "  inflating: pandora-master/data/oxford_data.csv  \n",
      "  inflating: pandora-master/data/oxford_data.py  \n",
      "  inflating: pandora-master/data/oxford_data_update.py  \n",
      "  inflating: pandora-master/data/population.csv  \n",
      "  inflating: pandora-master/data/population.py  \n",
      "  inflating: pandora-master/data/population.xlsx  \n",
      "  inflating: pandora-master/data/temperatures.csv  \n",
      "  inflating: pandora-master/data/temperatures.py  \n",
      "  inflating: pandora-master/data/working_day.csv  \n",
      "  inflating: pandora-master/data/working_day.py  \n",
      "  inflating: pandora-master/data/working_day_update.py  \n",
      "   creating: pandora-master/pandora/\n",
      "  inflating: pandora-master/pandora/core_fields.py  \n",
      "  inflating: pandora-master/pandora/core_types.py  \n",
      "  inflating: pandora-master/pandora/encoders.py  \n",
      "  inflating: pandora-master/pandora/imputer.py  \n",
      "  inflating: pandora-master/pandora/imputers.py  \n",
      "  inflating: pandora-master/pandora/loader.py  \n",
      "  inflating: pandora-master/requirements.txt  \n",
      "   creating: pandora-master/tests/\n",
      "  inflating: pandora-master/tests/test_encoders.py  \n",
      "  inflating: pandora-master/tests/test_loader.py  \n",
      "  inflating: pandora-master/tests/test_pipeline.py  \n"
     ]
    }
   ],
   "source": [
    "!rm -r pandora\n",
    "!wget https://github.com/rbilleci/pandora/archive/master.zip\n",
    "!unzip master.zip\n",
    "!rm master.zip\n",
    "!mv pandora-master pandora"
   ]
  },
  {
   "cell_type": "code",
   "execution_count": 9,
   "metadata": {},
   "outputs": [
    {
     "ename": "NameError",
     "evalue": "name 'y' is not defined",
     "output_type": "error",
     "traceback": [
      "\u001b[0;31m---------------------------------------------------------------------------\u001b[0m",
      "\u001b[0;31mNameError\u001b[0m                                 Traceback (most recent call last)",
      "\u001b[0;32m<ipython-input-9-9063a9f0e032>\u001b[0m in \u001b[0;36m<module>\u001b[0;34m\u001b[0m\n\u001b[0;32m----> 1\u001b[0;31m \u001b[0my\u001b[0m\u001b[0;34m\u001b[0m\u001b[0;34m\u001b[0m\u001b[0m\n\u001b[0m",
      "\u001b[0;31mNameError\u001b[0m: name 'y' is not defined"
     ]
    }
   ],
   "source": []
  },
  {
   "cell_type": "code",
   "execution_count": null,
   "metadata": {},
   "outputs": [],
   "source": []
  }
 ],
 "metadata": {
  "instance_type": "ml.t3.medium",
  "kernelspec": {
   "display_name": "Python 3 (Data Science)",
   "language": "python",
   "name": "python3__SAGEMAKER_INTERNAL__arn:aws:sagemaker:eu-central-1:936697816551:image/datascience-1.0"
  },
  "language_info": {
   "codemirror_mode": {
    "name": "ipython",
    "version": 3
   },
   "file_extension": ".py",
   "mimetype": "text/x-python",
   "name": "python",
   "nbconvert_exporter": "python",
   "pygments_lexer": "ipython3",
   "version": "3.7.6"
  }
 },
 "nbformat": 4,
 "nbformat_minor": 4
}
