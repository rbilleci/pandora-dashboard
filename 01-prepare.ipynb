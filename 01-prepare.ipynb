{
 "cells": [
  {
   "cell_type": "markdown",
   "metadata": {},
   "source": [
    "# Elastic Search Update Notebook\n",
    "\n",
    "This notebook is used to update the elastic search index with the latest datasets"
   ]
  },
  {
   "cell_type": "code",
   "execution_count": 15,
   "metadata": {},
   "outputs": [
    {
     "name": "stdout",
     "output_type": "stream",
     "text": [
      "Collecting git+https://github.com/rbilleci/pandora.git\n",
      "  Cloning https://github.com/rbilleci/pandora.git to /tmp/pip-req-build-7rg62u9x\n",
      "  Running command git clone -q https://github.com/rbilleci/pandora.git /tmp/pip-req-build-7rg62u9x\n",
      "Requirement already satisfied (use --upgrade to upgrade): pandora==0.1.0 from git+https://github.com/rbilleci/pandora.git in /opt/conda/lib/python3.7/site-packages\n",
      "Requirement already satisfied: pandas~=1.2.1 in /opt/conda/lib/python3.7/site-packages (from pandora==0.1.0) (1.2.2)\n",
      "Requirement already satisfied: fnvhash~=0.1.0 in /opt/conda/lib/python3.7/site-packages (from pandora==0.1.0) (0.1.0)\n",
      "Requirement already satisfied: scikit-learn~=0.24.1 in /opt/conda/lib/python3.7/site-packages (from pandora==0.1.0) (0.24.1)\n",
      "Requirement already satisfied: workalendar~=14.1.0 in /opt/conda/lib/python3.7/site-packages (from pandora==0.1.0) (14.1.0)\n",
      "Requirement already satisfied: category-encoders~=2.2.2 in /opt/conda/lib/python3.7/site-packages (from pandora==0.1.0) (2.2.2)\n",
      "Requirement already satisfied: pytz>=2017.3 in /opt/conda/lib/python3.7/site-packages (from pandas~=1.2.1->pandora==0.1.0) (2021.1)\n",
      "Requirement already satisfied: numpy>=1.16.5 in /opt/conda/lib/python3.7/site-packages (from pandas~=1.2.1->pandora==0.1.0) (1.20.1)\n",
      "Requirement already satisfied: python-dateutil>=2.7.3 in /opt/conda/lib/python3.7/site-packages (from pandas~=1.2.1->pandora==0.1.0) (2.8.1)\n",
      "Requirement already satisfied: joblib>=0.11 in /opt/conda/lib/python3.7/site-packages (from scikit-learn~=0.24.1->pandora==0.1.0) (1.0.1)\n",
      "Requirement already satisfied: threadpoolctl>=2.0.0 in /opt/conda/lib/python3.7/site-packages (from scikit-learn~=0.24.1->pandora==0.1.0) (2.1.0)\n",
      "Requirement already satisfied: scipy>=0.19.1 in /opt/conda/lib/python3.7/site-packages (from scikit-learn~=0.24.1->pandora==0.1.0) (1.6.0)\n",
      "Requirement already satisfied: skyfield in /opt/conda/lib/python3.7/site-packages (from workalendar~=14.1.0->pandora==0.1.0) (1.36)\n",
      "Requirement already satisfied: setuptools>=1.0 in /opt/conda/lib/python3.7/site-packages (from workalendar~=14.1.0->pandora==0.1.0) (53.0.0)\n",
      "Requirement already satisfied: skyfield-data in /opt/conda/lib/python3.7/site-packages (from workalendar~=14.1.0->pandora==0.1.0) (3.0.0)\n",
      "Requirement already satisfied: pyCalverter in /opt/conda/lib/python3.7/site-packages (from workalendar~=14.1.0->pandora==0.1.0) (1.6.1)\n",
      "Requirement already satisfied: lunardate in /opt/conda/lib/python3.7/site-packages (from workalendar~=14.1.0->pandora==0.1.0) (0.2.0)\n",
      "Requirement already satisfied: pyluach in /opt/conda/lib/python3.7/site-packages (from workalendar~=14.1.0->pandora==0.1.0) (1.2.1)\n",
      "Requirement already satisfied: statsmodels>=0.9.0 in /opt/conda/lib/python3.7/site-packages (from category-encoders~=2.2.2->pandora==0.1.0) (0.12.2)\n",
      "Requirement already satisfied: patsy>=0.5.1 in /opt/conda/lib/python3.7/site-packages (from category-encoders~=2.2.2->pandora==0.1.0) (0.5.1)\n",
      "Requirement already satisfied: six>=1.5 in /opt/conda/lib/python3.7/site-packages (from python-dateutil>=2.7.3->pandas~=1.2.1->pandora==0.1.0) (1.15.0)\n",
      "Requirement already satisfied: jplephem>=2.13 in /opt/conda/lib/python3.7/site-packages (from skyfield->workalendar~=14.1.0->pandora==0.1.0) (2.15)\n",
      "Requirement already satisfied: sgp4>=2.2 in /opt/conda/lib/python3.7/site-packages (from skyfield->workalendar~=14.1.0->pandora==0.1.0) (2.15)\n",
      "Requirement already satisfied: certifi>=2017.4.17 in /opt/conda/lib/python3.7/site-packages (from skyfield->workalendar~=14.1.0->pandora==0.1.0) (2020.12.5)\n",
      "Building wheels for collected packages: pandora\n",
      "  Building wheel for pandora (setup.py) ... \u001b[?25ldone\n",
      "\u001b[?25h  Created wheel for pandora: filename=pandora-0.1.0-py3-none-any.whl size=2681412 sha256=a526a1c68100d7873c82a77c5b24ae65468d05964da395955a471267c9ff7311\n",
      "  Stored in directory: /tmp/pip-ephem-wheel-cache-623oq6zh/wheels/01/8b/d5/a72c927a738750e04a4bb4fd22f63b4b88c7b5871732e2d67b\n",
      "Successfully built pandora\n"
     ]
    }
   ],
   "source": [
    "!pip install git+https://github.com/rbilleci/pandora.git"
   ]
  },
  {
   "cell_type": "code",
   "execution_count": 2,
   "metadata": {},
   "outputs": [],
   "source": [
    "import boto3\n",
    "import pandas as pd\n",
    "import pandora\n",
    "import pandora.data.age_distribution as age_dist\n",
    "import pandora.data.oxford_data as oxford\n",
    "import pandora.data.population as population\n",
    "import pandora.data.temperatures as temperatures\n",
    "import shutil\n",
    "import os\n",
    "import numpy as np\n",
    "from pandora.data import geo, continent, country_code, working_day\n",
    "from pandora import loader, encoders\n",
    "from pandora.core_fields import DATE, COUNTRY_CODE\n",
    "import datetime\n",
    "from pathlib import Path\n",
    "from logging import INFO, basicConfig, info\n",
    "import warnings"
   ]
  },
  {
   "cell_type": "code",
   "execution_count": 3,
   "metadata": {},
   "outputs": [],
   "source": [
    "# setup logging\n",
    "basicConfig(level=INFO, format='%(asctime)s\\t%(levelname)s\\t%(filename)s\\t%(message)s')\n",
    "warnings.filterwarnings('ignore', category=FutureWarning)  # ignore FutureWarning from scikit learn\n",
    "pd.options.display.max_columns = None\n",
    "pd.options.display.max_rows = None\n",
    "pd.options.display.max_info_columns = 1000"
   ]
  },
  {
   "cell_type": "markdown",
   "metadata": {},
   "source": [
    "# Download the data files"
   ]
  },
  {
   "cell_type": "code",
   "execution_count": 5,
   "metadata": {},
   "outputs": [
    {
     "name": "stderr",
     "output_type": "stream",
     "text": [
      "2021-02-09 18:02:40,676\tINFO\toxford_data_update.py\tdownload oxford data set\n",
      "2021-02-09 18:02:44,637\tINFO\toxford_data_update.py\twriting to /opt/conda/lib/python3.7/site-packages/pandora/data/oxford_data.csv\n"
     ]
    }
   ],
   "source": [
    "import pandora.data.oxford_data_update"
   ]
  },
  {
   "cell_type": "markdown",
   "metadata": {},
   "source": [
    "# Generate Dataset"
   ]
  },
  {
   "cell_type": "code",
   "execution_count": 9,
   "metadata": {},
   "outputs": [
    {
     "name": "stderr",
     "output_type": "stream",
     "text": [
      "2021-02-09 18:07:42,754\tINFO\tloader.py\t/opt/conda/lib/python3.7/site-packages/pandora/data/geo.csv - loading\n",
      "2021-02-09 18:07:48,304\tINFO\tloader.py\t/opt/conda/lib/python3.7/site-packages/pandora/data/country_code.csv - loading\n",
      "2021-02-09 18:07:52,612\tINFO\tloader.py\t/opt/conda/lib/python3.7/site-packages/pandora/data/continent.csv - loading\n",
      "2021-02-09 18:07:57,070\tINFO\tloader.py\t/opt/conda/lib/python3.7/site-packages/pandora/data/population.csv - loading\n",
      "2021-02-09 18:08:01,835\tINFO\timputer.py\t/opt/conda/lib/python3.7/site-packages/pandora/data/population.csv - imputing population\n",
      "2021-02-09 18:08:02,320\tINFO\timputer.py\t/opt/conda/lib/python3.7/site-packages/pandora/data/population.csv - imputing population_density\n",
      "2021-02-09 18:08:02,808\tINFO\timputer.py\t/opt/conda/lib/python3.7/site-packages/pandora/data/population.csv - imputing population_percent_urban\n",
      "2021-02-09 18:08:03,313\tINFO\timputer.py\t/opt/conda/lib/python3.7/site-packages/pandora/data/population.csv - imputing gdp_per_capita\n",
      "2021-02-09 18:08:03,774\tINFO\timputer.py\t/opt/conda/lib/python3.7/site-packages/pandora/data/population.csv - imputing obesity_rate\n",
      "2021-02-09 18:08:04,894\tINFO\timputer.py\t/opt/conda/lib/python3.7/site-packages/pandora/data/population.csv - imputing pneumonia_deaths_per_100k\n",
      "2021-02-09 18:08:05,976\tINFO\tloader.py\t/opt/conda/lib/python3.7/site-packages/pandora/data/age_distribution.csv - loading\n",
      "2021-02-09 18:08:10,757\tINFO\timputer.py\t/opt/conda/lib/python3.7/site-packages/pandora/data/age_distribution.csv - imputing age_distribution_00_04\n",
      "2021-02-09 18:08:11,959\tINFO\timputer.py\t/opt/conda/lib/python3.7/site-packages/pandora/data/age_distribution.csv - imputing age_distribution_05_14\n",
      "2021-02-09 18:08:13,169\tINFO\timputer.py\t/opt/conda/lib/python3.7/site-packages/pandora/data/age_distribution.csv - imputing age_distribution_15_34\n",
      "2021-02-09 18:08:14,404\tINFO\timputer.py\t/opt/conda/lib/python3.7/site-packages/pandora/data/age_distribution.csv - imputing age_distribution_34_64\n",
      "2021-02-09 18:08:15,616\tINFO\timputer.py\t/opt/conda/lib/python3.7/site-packages/pandora/data/age_distribution.csv - imputing age_distribution_65_plus\n",
      "2021-02-09 18:08:16,820\tINFO\tloader.py\t/opt/conda/lib/python3.7/site-packages/pandora/data/temperatures.csv - loading\n",
      "2021-02-09 18:08:22,003\tINFO\timputer.py\t/opt/conda/lib/python3.7/site-packages/pandora/data/temperatures.csv - imputing temperature\n",
      "2021-02-09 18:08:22,008\tINFO\timputer.py\t/opt/conda/lib/python3.7/site-packages/pandora/data/temperatures.csv - imputing specific_humidity\n",
      "2021-02-09 18:08:22,032\tINFO\tloader.py\t/opt/conda/lib/python3.7/site-packages/pandora/data/oxford_data.csv - loading\n",
      "2021-02-09 18:08:25,635\tINFO\timputer.py\t/opt/conda/lib/python3.7/site-packages/pandora/data/oxford_data.csv - imputing confirmed_cases\n",
      "2021-02-09 18:08:26,524\tINFO\timputer.py\t/opt/conda/lib/python3.7/site-packages/pandora/data/oxford_data.csv - imputing confirmed_deaths\n",
      "2021-02-09 18:08:27,430\tINFO\timputer.py\t/opt/conda/lib/python3.7/site-packages/pandora/data/oxford_data.csv - imputing c1_school_closing\n",
      "2021-02-09 18:08:28,285\tINFO\timputer.py\t/opt/conda/lib/python3.7/site-packages/pandora/data/oxford_data.csv - imputing c2_workplace_closing\n",
      "2021-02-09 18:08:29,481\tINFO\timputer.py\t/opt/conda/lib/python3.7/site-packages/pandora/data/oxford_data.csv - imputing c3_cancel_public_events\n",
      "2021-02-09 18:08:30,337\tINFO\timputer.py\t/opt/conda/lib/python3.7/site-packages/pandora/data/oxford_data.csv - imputing c4_restrictions_on_gatherings\n",
      "2021-02-09 18:08:31,249\tINFO\timputer.py\t/opt/conda/lib/python3.7/site-packages/pandora/data/oxford_data.csv - imputing c5_close_public_transport\n",
      "2021-02-09 18:08:32,166\tINFO\timputer.py\t/opt/conda/lib/python3.7/site-packages/pandora/data/oxford_data.csv - imputing c6_stay_at_home_requirements\n",
      "2021-02-09 18:08:33,025\tINFO\timputer.py\t/opt/conda/lib/python3.7/site-packages/pandora/data/oxford_data.csv - imputing c7_restrictions_on_internal_movement\n",
      "2021-02-09 18:08:33,944\tINFO\timputer.py\t/opt/conda/lib/python3.7/site-packages/pandora/data/oxford_data.csv - imputing c8_international_travel_controls\n",
      "2021-02-09 18:08:34,803\tINFO\timputer.py\t/opt/conda/lib/python3.7/site-packages/pandora/data/oxford_data.csv - imputing h1_public_information_campaigns\n",
      "2021-02-09 18:08:35,711\tINFO\timputer.py\t/opt/conda/lib/python3.7/site-packages/pandora/data/oxford_data.csv - imputing h2_testing_policy\n",
      "2021-02-09 18:08:36,626\tINFO\timputer.py\t/opt/conda/lib/python3.7/site-packages/pandora/data/oxford_data.csv - imputing h3_contact_tracing\n",
      "2021-02-09 18:08:37,478\tINFO\timputer.py\t/opt/conda/lib/python3.7/site-packages/pandora/data/oxford_data.csv - imputing h6_facial_coverings\n",
      "2021-02-09 18:08:38,420\tINFO\tloader.py\t/opt/conda/lib/python3.7/site-packages/pandora/data/working_day.csv - loading\n",
      "2021-02-09 18:08:44,446\tINFO\timputer.py\t/opt/conda/lib/python3.7/site-packages/pandora/data/working_day.csv - imputing working_day\n",
      "2021-02-09 18:08:46,742\tINFO\tloader.py\tvalidating fields\n"
     ]
    }
   ],
   "source": [
    "\n",
    "# determine the last date we have from the oxford data set\n",
    "# which is the first day we'll begin prediction from\n",
    "prediction_start_date = pd.read_csv(oxford.module.location, keep_default_na=False, na_values='')['date'].max()\n",
    "prediction_start_date = datetime.datetime.strptime(prediction_start_date, '%Y-%m-%d').date()\n",
    "\n",
    "# max number of days to create, build outs the dataframe\n",
    "# which will have placeholder values we want to predict for\n",
    "days_to_predict = 180\n",
    "\n",
    "# the data range should cover the ground truth data + the time window we are predicting into\n",
    "start_date = datetime.date(2020, 1, 1)\n",
    "end_date = prediction_start_date + datetime.timedelta(days=days_to_predict)\n",
    "\n",
    "# the imputation window might extend far before or after\n",
    "# the range we are predicting, this is so we have more data samples for imputation calculations\n",
    "imputation_window_start_date =  datetime.date(2020, 1, 1)\n",
    "imputation_window_end_date =  datetime.date(2021, 12, 31)\n",
    "\n",
    "# load the data\n",
    "df = loader.load(start_date,\n",
    "                 end_date,\n",
    "                 imputation_window_start_date,\n",
    "                 imputation_window_end_date,\n",
    "                 geo.module,\n",
    "                 [\n",
    "                     country_code.module,\n",
    "                     continent.module,\n",
    "                     population.module,\n",
    "                     age_dist.module,\n",
    "                     temperatures.module,\n",
    "                     oxford.module,\n",
    "                     working_day.module\n",
    "                 ])"
   ]
  },
  {
   "cell_type": "markdown",
   "metadata": {},
   "source": [
    "# Add computed column"
   ]
  },
  {
   "cell_type": "code",
   "execution_count": 12,
   "metadata": {},
   "outputs": [],
   "source": [
    "def compute_ma(field, window_size):\n",
    "    df[f\"{field}_ma_{window_size}\"] = df.groupby('geo_code')[field].rolling(window_size, center=False).mean().fillna(0).reset_index(0, drop=True)\n",
    "\n",
    "def add_working_day_tomorrow(grouped):\n",
    "    grouped['working_day' + '_tomorrow'] = grouped['working_day'].copy().shift(-1).bfill().ffill()\n",
    "    return grouped\n",
    "\n",
    "\n",
    "def add_working_day_yesterday(grouped):\n",
    "    grouped['working_day' + '_yesterday'] = grouped['working_day'].copy().shift(1).bfill().ffill()\n",
    "    return grouped\n",
    "\n",
    "def transform_column_order(df):\n",
    "    df = df.reindex(sorted(df.columns), axis=1)  # Sort columns by name\n",
    "    df_label = df['predicted_new_cases']\n",
    "    df = df.drop(labels=['predicted_new_cases'], axis=1)\n",
    "    df.insert(0, 'predicted_new_cases', df_label)\n",
    "    return df\n",
    "\n",
    "# Compute number of new cases and deaths each day\n",
    "# Replace negative values (which do not make sense for these columns) with 0\n",
    "df['new_cases'] = df.groupby('geo_code').confirmed_cases.diff().fillna(0)\n",
    "df['new_cases'] = df['new_cases'].clip(lower=0)\n",
    "\n",
    "# add predicted new cases\n",
    "df['predicted_new_cases'] = df.groupby('geo_code').new_cases.shift(-1).fillna(0)\n",
    "df['predicted_new_cases'] = df['predicted_new_cases'].clip(lower=0)\n",
    "\n",
    "# add confirmed cases as percent of population\n",
    "df['new_cases_as_percent_of_population'] = df['new_cases'] / df['population']\n",
    "df['confirmed_cases_as_percent_of_population'] = df['confirmed_cases'] / df['population']\n",
    "\n",
    "# Add moving averages\n",
    "for window_size in [3, 7, 21]:\n",
    "    compute_ma('new_cases', window_size)\n",
    "    compute_ma('confirmed_cases', window_size)\n",
    "    compute_ma('specific_humidity', window_size)    \n",
    "    compute_ma('temperature', window_size)        \n",
    "    compute_ma('c1_school_closing', window_size)        \n",
    "    compute_ma('c2_workplace_closing', window_size)        \n",
    "    compute_ma('c3_cancel_public_events', window_size)        \n",
    "    compute_ma('c4_restrictions_on_gatherings', window_size)   \n",
    "    compute_ma('c5_close_public_transport', window_size)        \n",
    "    compute_ma('c6_stay_at_home_requirements', window_size)        \n",
    "    compute_ma('c7_restrictions_on_internal_movement', window_size)        \n",
    "    compute_ma('c8_international_travel_controls', window_size)   \n",
    "    compute_ma('h1_public_information_campaigns', window_size)        \n",
    "    compute_ma('h2_testing_policy', window_size)        \n",
    "    compute_ma('h3_contact_tracing', window_size)        \n",
    "    compute_ma('h6_facial_coverings', window_size)     \n",
    "    compute_ma('working_day', window_size)        \n",
    "    compute_ma('new_cases_as_percent_of_population', window_size)     \n",
    "    compute_ma('confirmed_cases_as_percent_of_population', window_size)     \n",
    "\n",
    "# Add working day information for tomorrow, and today\n",
    "df = df.groupby('geo_code').apply(lambda group: add_working_day_tomorrow(group)).reset_index(drop=True)\n",
    "df = df.groupby('geo_code').apply(lambda group: add_working_day_yesterday(group)).reset_index(drop=True)\n",
    "df['npi_sum'] = df['c1_school_closing'] + df['c2_workplace_closing'] + \\\n",
    "                df['c3_cancel_public_events'] + df['c4_restrictions_on_gatherings'] + \\\n",
    "                df['c5_close_public_transport'] + df['c6_stay_at_home_requirements'] + \\\n",
    "                df['c7_restrictions_on_internal_movement'] + df['c8_international_travel_controls'] + \\\n",
    "                df['h1_public_information_campaigns'] + df['h2_testing_policy'] + \\\n",
    "                df['h3_contact_tracing'] + df['h6_facial_coverings']\n",
    "\n",
    "# Add a column to indicate ground-truth data vs predicted data\n",
    "df['predicted'] = df['date'].apply(lambda x: x >= prediction_start_date)\n",
    "\n",
    "# Drop unused columns\n",
    "df = transform_column_order(df)\n",
    "df = df.sort_values(['geo_code', 'date'])"
   ]
  },
  {
   "cell_type": "markdown",
   "metadata": {},
   "source": [
    "# Write out the data"
   ]
  },
  {
   "cell_type": "code",
   "execution_count": 14,
   "metadata": {},
   "outputs": [],
   "source": [
    "shutil.rmtree('temp', ignore_errors=True)\n",
    "Path('temp').mkdir(parents=True, exist_ok=True)\n",
    "\n",
    "\n",
    "df.to_csv('temp/01-data.csv', index=False)"
   ]
  }
 ],
 "metadata": {
  "instance_type": "ml.t3.medium",
  "kernelspec": {
   "display_name": "Python 3 (Data Science)",
   "language": "python",
   "name": "python3__SAGEMAKER_INTERNAL__arn:aws:sagemaker:eu-west-1:470317259841:image/datascience-1.0"
  },
  "language_info": {
   "codemirror_mode": {
    "name": "ipython",
    "version": 3
   },
   "file_extension": ".py",
   "mimetype": "text/x-python",
   "name": "python",
   "nbconvert_exporter": "python",
   "pygments_lexer": "ipython3",
   "version": "3.7.6"
  }
 },
 "nbformat": 4,
 "nbformat_minor": 4
}
